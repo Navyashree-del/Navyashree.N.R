{
 "cells": [
  {
   "cell_type": "markdown",
   "metadata": {},
   "source": [
    "You all are pilots,you want to land a plane safely,so WAP to take current altitude as input and check wheather the altitude is less than 1000ft to land the plane,or more than 1000ft, and if its less than 5000ft ask pilot to bring it further down 1000ft and if it is more than 5000ft then ask pilot to turn around and attempt and attempt later"
   ]
  },
  {
   "cell_type": "code",
   "execution_count": 3,
   "metadata": {},
   "outputs": [
    {
     "name": "stdout",
     "output_type": "stream",
     "text": [
      "Enter any altitude value=4000\n",
      "Bring it down to 1000ft\n"
     ]
    }
   ],
   "source": [
    "altitude = input(\"Enter any altitude value=\")\n",
    "altitude= int(altitude)\n",
    "if altitude<1000:\n",
    "    print(\"safe the plane to land \")\n",
    "elif altitude<5000:\n",
    "        print(\"Bring it down to 1000ft\")\n",
    "else:\n",
    "        print(\"Turn around\")"
   ]
  },
  {
   "cell_type": "code",
   "execution_count": null,
   "metadata": {},
   "outputs": [],
   "source": []
  }
 ],
 "metadata": {
  "kernelspec": {
   "display_name": "Python 3",
   "language": "python",
   "name": "python3"
  },
  "language_info": {
   "codemirror_mode": {
    "name": "ipython",
    "version": 3
   },
   "file_extension": ".py",
   "mimetype": "text/x-python",
   "name": "python",
   "nbconvert_exporter": "python",
   "pygments_lexer": "ipython3",
   "version": "3.8.3"
  }
 },
 "nbformat": 4,
 "nbformat_minor": 4
}
